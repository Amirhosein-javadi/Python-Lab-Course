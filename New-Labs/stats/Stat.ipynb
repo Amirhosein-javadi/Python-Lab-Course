{
 "cells": [
  {
   "cell_type": "markdown",
   "metadata": {},
   "source": [
    "Pandas"
   ]
  },
  {
   "cell_type": "code",
   "execution_count": 291,
   "metadata": {},
   "outputs": [
    {
     "name": "stdout",
     "output_type": "stream",
     "text": [
      "          A         B         C         D\n",
      "1  0.130919  0.877679  0.507649  0.191410\n",
      "2  0.595185  0.540349  0.324707  0.528776\n",
      "3  0.765682  0.169283  0.568545  0.125537\n",
      "4  0.491720  0.885968  0.469983  0.226510\n",
      "5  0.380645  0.800072  0.077854  0.697665\n",
      "6  0.825205  0.385014  0.854893  0.665964\n"
     ]
    }
   ],
   "source": [
    "import pandas as pd\n",
    "import random\n",
    "import numpy as np\n",
    "import statistics\n",
    "#Pandas 1\n",
    "indexes = [1 , 2 , 3 , 4 , 5 , 6]\n",
    "columns = ['A' , 'B' , 'C' , 'D']\n",
    "df = pd.DataFrame([[random.random() for j in ['A' , 'B' , 'C' , 'D']] for i in [1 , 2 , 3 , 4 , 5 , 6]], index=indexes,columns=columns)\n",
    "print(df)"
   ]
  },
  {
   "cell_type": "code",
   "execution_count": 292,
   "metadata": {},
   "outputs": [
    {
     "name": "stdout",
     "output_type": "stream",
     "text": [
      "Two first Rows are:\n",
      "          A         B         C         D\n",
      "1  0.130919  0.877679  0.507649  0.191410\n",
      "2  0.595185  0.540349  0.324707  0.528776\n",
      "Two Last Rows are:\n",
      "          A         B         C         D\n",
      "5  0.380645  0.800072  0.077854  0.697665\n",
      "6  0.825205  0.385014  0.854893  0.665964\n"
     ]
    }
   ],
   "source": [
    "#Pandas 2\n",
    "print(\"Two first Rows are:\")\n",
    "print(df.head(2))\n",
    "print(\"Two Last Rows are:\")\n",
    "print(df.tail(2))"
   ]
  },
  {
   "cell_type": "code",
   "execution_count": 293,
   "metadata": {},
   "outputs": [
    {
     "name": "stdout",
     "output_type": "stream",
     "text": [
      "[[0.13091873 0.87767874 0.50764929 0.19140994]\n",
      " [0.5951855  0.54034894 0.32470732 0.52877613]\n",
      " [0.76568178 0.16928253 0.56854461 0.12553655]\n",
      " [0.49172006 0.88596838 0.46998335 0.22651008]\n",
      " [0.38064514 0.80007178 0.07785356 0.69766452]\n",
      " [0.82520504 0.38501443 0.8548932  0.66596381]]\n",
      "Index(['A', 'B', 'C', 'D'], dtype='object')\n",
      "Int64Index([1, 2, 3, 4, 5, 6], dtype='int64')\n",
      "              A         B         C         D\n",
      "count  6.000000  6.000000  6.000000  6.000000\n",
      "mean   0.531559  0.609727  0.467272  0.405977\n",
      "std    0.256891  0.294496  0.258502  0.254813\n",
      "min    0.130919  0.169283  0.077854  0.125537\n",
      "25%    0.408414  0.423848  0.361026  0.200185\n",
      "50%    0.543453  0.670210  0.488816  0.377643\n",
      "75%    0.723058  0.858277  0.553321  0.631667\n",
      "max    0.825205  0.885968  0.854893  0.697665\n"
     ]
    }
   ],
   "source": [
    "#Pandas 3\n",
    "print(df.values)\n",
    "print(df.columns)\n",
    "print(df.index)\n",
    "print(df.describe())"
   ]
  },
  {
   "cell_type": "code",
   "execution_count": 294,
   "metadata": {},
   "outputs": [
    {
     "name": "stdout",
     "output_type": "stream",
     "text": [
      "          A         B         C         D\n",
      "4  0.491720  0.885968  0.469983  0.226510\n",
      "1  0.130919  0.877679  0.507649  0.191410\n",
      "5  0.380645  0.800072  0.077854  0.697665\n",
      "2  0.595185  0.540349  0.324707  0.528776\n",
      "6  0.825205  0.385014  0.854893  0.665964\n",
      "3  0.765682  0.169283  0.568545  0.125537\n"
     ]
    }
   ],
   "source": [
    "#Pandas 4\n",
    "df.sort_values(by=['B' , 'C'] , ascending=(False , True) , inplace=True)\n",
    "print(df)"
   ]
  },
  {
   "cell_type": "code",
   "execution_count": 295,
   "metadata": {},
   "outputs": [
    {
     "name": "stdout",
     "output_type": "stream",
     "text": [
      "          A         B         C         D  F\n",
      "4  0.491720  0.885968  0.469983  0.226510  4\n",
      "1  0.130919  0.877679  0.507649  0.191410  1\n",
      "5  0.380645  0.800072  0.077854  0.697665  5\n",
      "2  0.595185  0.540349  0.324707  0.528776  2\n",
      "6  0.825205  0.385014  0.854893  0.665964  6\n",
      "3  0.765682  0.169283  0.568545  0.125537  3\n"
     ]
    }
   ],
   "source": [
    "#Pandas 5\n",
    "S = pd.Series([0 , 1 , 2 , 3 , 4 , 5 , 6])\n",
    "df['F'] = S\n",
    "print(df)"
   ]
  },
  {
   "cell_type": "code",
   "execution_count": 296,
   "metadata": {},
   "outputs": [
    {
     "name": "stdout",
     "output_type": "stream",
     "text": [
      "          A    F\n",
      "1  0.130919  1.0\n",
      "2  0.595185  2.0\n",
      "3  0.765682  NaN\n"
     ]
    }
   ],
   "source": [
    "#Pandas 6\n",
    "df.at[[3 , 5] , 'F'] = np.NAN\n",
    "print(df.loc[[1 , 2 , 3], ['A' , 'F']])"
   ]
  },
  {
   "cell_type": "code",
   "execution_count": 297,
   "metadata": {},
   "outputs": [
    {
     "name": "stdout",
     "output_type": "stream",
     "text": [
      "          A         B         C         D    F\n",
      "4  0.491720  0.885968  0.469983  0.226510  4.0\n",
      "1  0.130919  0.877679  0.507649  0.191410  1.0\n",
      "2  0.595185  0.540349  0.324707  0.528776  2.0\n",
      "6  0.825205  0.385014  0.854893  0.665964  6.0\n"
     ]
    }
   ],
   "source": [
    "#Pandas 7\n",
    "df1 = df.dropna()\n",
    "print(df1)"
   ]
  },
  {
   "cell_type": "code",
   "execution_count": 298,
   "metadata": {},
   "outputs": [
    {
     "name": "stdout",
     "output_type": "stream",
     "text": [
      "          A         B         C         D         F\n",
      "4  0.491720  0.885968  0.469983  0.226510  4.000000\n",
      "1  0.130919  0.877679  0.507649  0.191410  1.000000\n",
      "5  0.380645  0.800072  0.077854  0.697665  0.405977\n",
      "2  0.595185  0.540349  0.324707  0.528776  2.000000\n",
      "6  0.825205  0.385014  0.854893  0.665964  6.000000\n",
      "3  0.765682  0.169283  0.568545  0.125537  0.405977\n"
     ]
    }
   ],
   "source": [
    "#Pandas 8\n",
    "df2 = df.fillna(value=(statistics.mean(df['D'])))\n",
    "print(df2)"
   ]
  },
  {
   "cell_type": "markdown",
   "metadata": {},
   "source": [
    "Matplotlib"
   ]
  },
  {
   "cell_type": "code",
   "execution_count": 299,
   "metadata": {},
   "outputs": [
    {
     "data": {
      "image/png": "[encoded data removed]",
      "text/plain": [
       "<Figure size 432x288 with 1 Axes>"
      ]
     },
     "metadata": {
      "needs_background": "light"
     },
     "output_type": "display_data"
    },
    {
     "data": {
      "image/png": "[encoded data removed]",
      "text/plain": [
       "<Figure size 432x288 with 1 Axes>"
      ]
     },
     "metadata": {
      "needs_background": "light"
     },
     "output_type": "display_data"
    }
   ],
   "source": [
    "#matplotlib 1\n",
    "import matplotlib.pylab as plt\n",
    "\n",
    "df = pd.read_csv('D:\\Electrical_course\\T7\\Python\\PythonLab\\Train.csv')\n",
    "plt.hist(df['ApplicantIncome'], bins=50)\n",
    "plt.show()\n",
    "plt.boxplot([df[df['Education'] == 'Graduate']['ApplicantIncome'],df[df['Education'] == 'Not Graduate']['ApplicantIncome']])\n",
    "plt.show()"
   ]
  },
  {
   "cell_type": "code",
   "execution_count": 300,
   "metadata": {},
   "outputs": [
    {
     "data": {
      "image/png": "[encoded data removed]",
      "text/plain": [
       "<Figure size 432x288 with 2 Axes>"
      ]
     },
     "metadata": {
      "needs_background": "light"
     },
     "output_type": "display_data"
    }
   ],
   "source": [
    "#matplotlib 2\n",
    "DataNumber , Remainder = pd.factorize(df['Loan_Status'])\n",
    "df['Loan_Status'] = DataNumber\n",
    "fig = plt.figure()\n",
    "fig.add_subplot(121)\n",
    "df = df.dropna(subset=['Credit_History'])\n",
    "df1 = df[df['Credit_History'] == 0]\n",
    "df2 = df[df['Credit_History'] == 1]\n",
    "plt.scatter([0,1] , [df1.shape[0] , df2.shape[0]])\n",
    "fig.add_subplot(122)\n",
    "plt.scatter([0 , 1] , [df1['Loan_Status'].value_counts(normalize=True).loc[0] , df2['Loan_Status'].value_counts(normalize=True).loc[0]])\n",
    "plt.show()"
   ]
  },
  {
   "cell_type": "markdown",
   "metadata": {},
   "source": [
    "Numpy & Scipy"
   ]
  },
  {
   "cell_type": "code",
   "execution_count": 301,
   "metadata": {},
   "outputs": [
    {
     "name": "stdout",
     "output_type": "stream",
     "text": [
      "[[0 1 2]\n",
      " [3 4 5]\n",
      " [0 1 2]\n",
      " [3 4 5]\n",
      " [6 7 8]]\n",
      "[0 1 2 3 4 5 0 1 2 3 4 5 6 7 8]\n",
      "14\n"
     ]
    }
   ],
   "source": [
    "#Numpy & Scipy 1\n",
    "Mat1 = np.arange(6).reshape(2,3)\n",
    "Mat2 = np.arange(9).reshape(3,3)\n",
    "Mat3 = np.vstack((Mat1,Mat2))\n",
    "print(Mat3)\n",
    "Mat4 = np.ravel(Mat3)\n",
    "print(Mat4)\n",
    "maxindex = np.argmax(Mat4)\n",
    "print(maxindex)"
   ]
  },
  {
   "cell_type": "code",
   "execution_count": 302,
   "metadata": {},
   "outputs": [
    {
     "name": "stdout",
     "output_type": "stream",
     "text": [
      "A Transpose\n",
      "[[3 1 2]\n",
      " [1 5 6]\n",
      " [4 9 5]]\n",
      "A Inverse\n",
      "[[ 0.32222222 -0.21111111  0.12222222]\n",
      " [-0.14444444 -0.07777778  0.25555556]\n",
      " [ 0.04444444  0.17777778 -0.15555556]]\n",
      "Determinant A\n",
      "-90.0\n",
      "Eigen Value of A\n",
      "(array([13.08576474+0.j,  2.58000566+0.j, -2.66577041+0.j]), array([[-0.31542644, -0.95117074, -0.32372474],\n",
      "       [-0.72306109,  0.30781323, -0.70222933],\n",
      "       [-0.61456393,  0.02291827,  0.63409484]]))\n",
      "singular value decomposition of A\n",
      "(array([[-0.32463251,  0.79898436,  0.50619929],\n",
      "       [-0.75307473,  0.1054674 , -0.64942672],\n",
      "       [-0.57226932, -0.59203093,  0.56745679]]), array([13.58235799,  2.84547726,  2.32869289]), array([[-0.21141476, -0.55392606, -0.80527617],\n",
      "       [ 0.46331722, -0.78224635,  0.41644663],\n",
      "       [ 0.86060499,  0.28505536, -0.42202191]]))\n",
      "QR A\n",
      "(array([[-0.80178373,  0.56829114, -0.18490007],\n",
      "       [-0.26726124, -0.61770776, -0.73960026],\n",
      "       [-0.53452248, -0.54358283,  0.64715023]]), array([[-3.74165739, -5.34522484, -8.2850985 ],\n",
      "       [ 0.        , -5.78174467, -6.00411946],\n",
      "       [ 0.        ,  0.        , -4.16025147]]))\n",
      "Solution for AX = B.T is\n",
      "[[-0.32222222]\n",
      " [-0.85555556]\n",
      " [ 0.95555556]]\n"
     ]
    }
   ],
   "source": [
    "#Numpy & Scipy 2\n",
    "import scipy.linalg as lilang\n",
    "A = np.mat([[3 , 1 , 4] , [1 , 5 , 9] , [2 , 6 , 5]])\n",
    "B = np.mat([2 , 4 , -1])\n",
    "print(\"A Transpose\")\n",
    "print(A.T)\n",
    "AInverse = lilang.inv(A)\n",
    "print(\"A Inverse\")\n",
    "print(AInverse)\n",
    "DetA = lilang.det(A)\n",
    "print(\"Determinant A\")\n",
    "print(DetA)\n",
    "eigA = lilang.eig(A)\n",
    "print(\"Eigen Value of A\")\n",
    "print(eigA)\n",
    "svdA = lilang.svd(A)\n",
    "print(\"singular value decomposition of A\")\n",
    "print(svdA)\n",
    "qrA = lilang.qr(A)\n",
    "print(\"QR A\")\n",
    "print(qrA)\n",
    "Solve = lilang.solve(A , B.T)\n",
    "print(\"Solution for AX = B.T is\")\n",
    "print(Solve)"
   ]
  },
  {
   "cell_type": "code",
   "execution_count": 303,
   "metadata": {},
   "outputs": [
    {
     "data": {
      "image/png": "[encoded data removed]",
      "text/plain": [
       "<Figure size 432x288 with 2 Axes>"
      ]
     },
     "metadata": {
      "needs_background": "light"
     },
     "output_type": "display_data"
    }
   ],
   "source": [
    "#Numpy & Scipy 3\n",
    "import math\n",
    "t = (np.random.random(size=1000) - 0.5) * 20 * math.pi\n",
    "t = np.sort(t)\n",
    "y = np.sinc(t)\n",
    "f = t / 10\n",
    "z = np.fft.fftshift(np.fft.fft(y))\n",
    "fig = plt.figure()\n",
    "fig.add_subplot(311)\n",
    "plt.plot(t , y)\n",
    "plt.xlabel('t')\n",
    "plt.ylabel('y')\n",
    "plt.title('Sinc(t)')\n",
    "fig.add_subplot(313)\n",
    "plt.plot(f , abs(z))\n",
    "plt.xlabel('f')\n",
    "plt.ylabel('z')\n",
    "plt.title('fft(Sinc(t))')\n",
    "plt.savefig('figure.png')\n",
    "plt.show()\n",
    "\n"
   ]
  }
 ],
 "metadata": {
  "interpreter": {
   "hash": "515f3b9a8bddcd73031b1f20d3a2cc76fbdc76525a0934f6c33e39288295aac7"
  },
  "kernelspec": {
   "display_name": "Python 3.9.6 64-bit",
   "name": "python3"
  },
  "language_info": {
   "codemirror_mode": {
    "name": "ipython",
    "version": 3
   },
   "file_extension": ".py",
   "mimetype": "text/x-python",
   "name": "python",
   "nbconvert_exporter": "python",
   "pygments_lexer": "ipython3",
   "version": "3.9.6"
  },
  "orig_nbformat": 4
 },
 "nbformat": 4,
 "nbformat_minor": 2
}
