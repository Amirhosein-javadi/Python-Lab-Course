{
  "nbformat": 4,
  "nbformat_minor": 0,
  "metadata": {
    "colab": {
      "name": "OOP.ipynb",
      "provenance": [],
      "collapsed_sections": [
        "VGo8WIJ2acJ5",
        "LULB_eV51h5v",
        "_fJRn4IJ16d1",
        "BfSxs4rV2LIj",
        "IE_Pp1D92dVF",
        "bEtOrowa4Fsf",
        "GCud2bEO4wKm"
      ]
    },
    "kernelspec": {
      "name": "python3",
      "display_name": "Python 3"
    },
    "language_info": {
      "name": "python"
    }
  },
  "cells": [
    {
      "cell_type": "markdown",
      "source": [
        "# **Python OOP**"
      ],
      "metadata": {
        "id": "MSvi9mCHaXzX"
      }
    },
    {
      "cell_type": "markdown",
      "source": [
        "# Class "
      ],
      "metadata": {
        "id": "VGo8WIJ2acJ5"
      }
    },
    {
      "cell_type": "code",
      "execution_count": 15,
      "metadata": {
        "id": "oG5ecVhLaW7p"
      },
      "outputs": [],
      "source": [
        "class Set():\n",
        "  def __init__(Self):\n",
        "    Self.Class_Members = []\n",
        "  \n",
        "  def add( Self ,x):\n",
        "    if Self.Class_Members.count(x)==0:\n",
        "      Self.Class_Members.append(x)\n",
        "\n",
        "  def delete( Self ,x):\n",
        "    if x in Self.Class_Members:\n",
        "      Self.Class_Members.remove(x)\n",
        "\n",
        "  def Intersection(Self,b):\n",
        "    Intersection_class = Set()\n",
        "    Intersection_class.Class_Members = list(set( Self.Class_Members ).intersection(set( b.Class_Members )))\n",
        "    return Intersection_class\n",
        "  \n",
        "  def Union(Self,b):\n",
        "    Union_class = Set()\n",
        "    Union_class.Class_Members = list(set( Self.Class_Members ).union(set( b.Class_Members )))\n",
        "    return Union_class\n",
        "\n",
        "  def Equality_check(Self,b):\n",
        "    return Self.Class_Members == b.Class_Members\n"
      ]
    },
    {
      "cell_type": "markdown",
      "source": [
        "#Test"
      ],
      "metadata": {
        "id": "LULB_eV51h5v"
      }
    },
    {
      "cell_type": "markdown",
      "source": [
        "##Testing add function"
      ],
      "metadata": {
        "id": "_fJRn4IJ16d1"
      }
    },
    {
      "cell_type": "code",
      "source": [
        "Class_list = Set()\n",
        "Class_list.add(1)\n",
        "Class_list.add(2)\n",
        "Class_list.add(3)\n",
        "Class_list.Class_Members"
      ],
      "metadata": {
        "colab": {
          "base_uri": "https://localhost:8080/"
        },
        "id": "WLqo0a5a0k1b",
        "outputId": "f1556137-d32a-4c71-9f5a-dae1216da5a6"
      },
      "execution_count": 16,
      "outputs": [
        {
          "output_type": "execute_result",
          "data": {
            "text/plain": [
              "[1, 2, 3]"
            ]
          },
          "metadata": {},
          "execution_count": 16
        }
      ]
    },
    {
      "cell_type": "markdown",
      "source": [
        "##Testing delete function"
      ],
      "metadata": {
        "id": "BfSxs4rV2LIj"
      }
    },
    {
      "cell_type": "code",
      "source": [
        "Class_list.delete(3)\n",
        "Class_list.Class_Members"
      ],
      "metadata": {
        "colab": {
          "base_uri": "https://localhost:8080/"
        },
        "id": "udkL9Z7p2SU_",
        "outputId": "b09b7ddc-2a3f-4766-991e-3f83960c13d3"
      },
      "execution_count": 17,
      "outputs": [
        {
          "output_type": "execute_result",
          "data": {
            "text/plain": [
              "[1, 2]"
            ]
          },
          "metadata": {},
          "execution_count": 17
        }
      ]
    },
    {
      "cell_type": "markdown",
      "source": [
        "##Testing Intersection function"
      ],
      "metadata": {
        "id": "IE_Pp1D92dVF"
      }
    },
    {
      "cell_type": "code",
      "source": [
        "b = Set()\n",
        "b.add(1)\n",
        "b.add(5)\n",
        "intersection =Class_list.Intersection(b)   # [1,2] & [1,5] = [1]\n",
        "print( 'intersection = ', intersection.Class_Members)"
      ],
      "metadata": {
        "colab": {
          "base_uri": "https://localhost:8080/"
        },
        "id": "EhVwjqQG2qLk",
        "outputId": "2ce43e75-f0e3-42b0-b439-75d20d2c1ec9"
      },
      "execution_count": 18,
      "outputs": [
        {
          "output_type": "stream",
          "name": "stdout",
          "text": [
            "intersection =  [1]\n"
          ]
        }
      ]
    },
    {
      "cell_type": "markdown",
      "source": [
        "##Testing Union function"
      ],
      "metadata": {
        "id": "bEtOrowa4Fsf"
      }
    },
    {
      "cell_type": "code",
      "source": [
        "Union =Class_list.Union(b)  # # [1,2] | [1,5] = [1 , 2 ,5]\n",
        "print( 'union = ', Union.Class_Members)"
      ],
      "metadata": {
        "colab": {
          "base_uri": "https://localhost:8080/"
        },
        "id": "kxmxlzxO4Vc-",
        "outputId": "46d89b43-efec-4d60-e1b4-f2fd2c4385bb"
      },
      "execution_count": 19,
      "outputs": [
        {
          "output_type": "stream",
          "name": "stdout",
          "text": [
            "union =  [1, 2, 5]\n"
          ]
        }
      ]
    },
    {
      "cell_type": "markdown",
      "source": [
        "##Testing equality function"
      ],
      "metadata": {
        "id": "GCud2bEO4wKm"
      }
    },
    {
      "cell_type": "code",
      "source": [
        "Class_list.Equality_check(b) # [1,5] != [1,2]"
      ],
      "metadata": {
        "colab": {
          "base_uri": "https://localhost:8080/"
        },
        "id": "G8sPqpld43nj",
        "outputId": "6207b4d4-053f-464f-93ed-6b5d482c983d"
      },
      "execution_count": 20,
      "outputs": [
        {
          "output_type": "execute_result",
          "data": {
            "text/plain": [
              "False"
            ]
          },
          "metadata": {},
          "execution_count": 20
        }
      ]
    },
    {
      "cell_type": "code",
      "source": [
        "b.delete(5)\n",
        "b.add(2)\n",
        "Class_list.Equality_check(b) # [1,2] == [1,2]"
      ],
      "metadata": {
        "colab": {
          "base_uri": "https://localhost:8080/"
        },
        "id": "ox3TUCIS5yFp",
        "outputId": "c066edcc-6151-4331-9ca9-2394b079d46b"
      },
      "execution_count": 21,
      "outputs": [
        {
          "output_type": "execute_result",
          "data": {
            "text/plain": [
              "True"
            ]
          },
          "metadata": {},
          "execution_count": 21
        }
      ]
    }
  ]
}