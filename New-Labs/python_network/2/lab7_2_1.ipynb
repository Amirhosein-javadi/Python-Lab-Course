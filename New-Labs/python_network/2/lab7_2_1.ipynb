{
 "cells": [
  {
   "cell_type": "code",
   "execution_count": 1,
   "metadata": {},
   "outputs": [
    {
     "name": "stdout",
     "output_type": "stream",
     "text": [
      "{\"name\": \"Mohammadali Ahmadizarei\", \"id\": 97101207}\n",
      "<class 'str'>\n",
      "{'name': 'Mohammadali Ahmadizarei', 'id': 97101207}\n",
      "<class 'dict'>\n",
      "Mohammadali Ahmadizarei\n",
      "97101207\n"
     ]
    }
   ],
   "source": [
    "import json\n",
    "dict_name = {'name': 'Mohammadali Ahmadizarei',\n",
    "             'id': 97101207}\n",
    "json_name = json.dumps(dict_name)\n",
    "print(json_name)\n",
    "print(type(json_name))\n",
    "decode_json = json.loads(json_name)\n",
    "print(decode_json)\n",
    "print(type(decode_json))\n",
    "print(decode_json['name'])\n",
    "print(decode_json['id'])"
   ]
  },
  {
   "cell_type": "code",
   "execution_count": 2,
   "metadata": {},
   "outputs": [
    {
     "name": "stdout",
     "output_type": "stream",
     "text": [
      "<Response [200]>\n"
     ]
    }
   ],
   "source": [
    "import requests\n",
    "\n",
    "response = requests.post('https://www.toptal.com/developers/postbin/1643307834115-0520338043570'\n",
    "                        , json_name)\n",
    "print(response)"
   ]
  },
  {
   "cell_type": "code",
   "execution_count": 4,
   "metadata": {},
   "outputs": [
    {
     "name": "stdout",
     "output_type": "stream",
     "text": [
      "status_code: 200\n"
     ]
    }
   ],
   "source": [
    "print('status_code:', response.status_code)"
   ]
  },
  {
   "cell_type": "code",
   "execution_count": 7,
   "metadata": {},
   "outputs": [
    {
     "name": "stdout",
     "output_type": "stream",
     "text": [
      "<!DOCTYPE html><html lang=\"en\"><head><meta charset=\"utf-8\"><meta http-equiv=\"X-UA-Compatible\" content=\"IE=edge\"><meta name=\"viewport\" content=\"width=device-width, initial-scale=1.0\"><meta name=\"keywords\" content=\"postbin, post bin, requestbin, request bin, httpbin, http bin, webhook test, webhook tester\"><link rel=\"shortcut icon\" href=\"/developers/postbin/favicon.ico\"><title>PostBin: Test Your API Clients or Webhooks | Toptal®</title><meta name=\"description\" content=\"Use PostBin to collect all requests to a special URL which you can use to test your API Clients or your WebHooks.\"><link rel=\"stylesheet\" href=\"https://cdnjs.cloudflare.com/ajax/libs/tailwindcss/0.7.2/tailwind.min.css\" integrity=\"sha256-krNldfVf0NG1kwbsehy7urGOekUmkcjTB+wAX+uidSI=\" crossorigin=\"anonymous\"><link rel=\"stylesheet\" href=\"https://use.fontawesome.com/releases/v5.5.0/css/all.css\" integrity=\"sha384-B4dIYHKNBt8Bc12p+WXckhzcICo0wtJAoU8YZTY5qE0Id1GSseTk6S+L3BlXeVIU\" crossorigin=\"anonymous\"><link href=\"https://fonts.googleapis.com/css?family=Raleway:500|Source+Sans+Pro\" rel=\"stylesheet\"><link href=\"/developers/postbin/s/css/style.css\" rel=\"stylesheet\"><style>a { text-decoration: none; }\n",
      "body {\n",
      "  font-family: 'Source Sans Pro', sans-serif;\n",
      "  color: #2d3748;\n",
      "}\n",
      "h1, h2, h3, h4, h5, h6 {\n",
      "  font-family: 'Raleway', sans-serif;\n",
      "  margin: 1em 0;\n",
      "}\n",
      "p { margin-bottom: 1em; }\n",
      "</style><!-- Global site tag (gtag.js) - Google Analytics--><script async=\"\" src=\"https://www.googletagmanager.com/gtag/js?id=UA-12250639-11\"></script><script>window.dataLayer = window.dataLayer || [];\n",
      "function gtag(){dataLayer.push(arguments);}\n",
      "gtag('js', new Date());\n",
      "gtag('config', 'UA-12250639-11');\n",
      "</script></head><body class=\"leading-normal\"><style>body,html{padding:0;margin:0}@font-face{font-display:swap;font-weight:400;font-family:Proxima Nova;font-style:normal;src:url(/developers/postbin/s/fonts/ProximaNova-Regular.woff2) format(\"woff2\"),url(/developers/postbin/s/fonts/ProximaNova-Regular.woff) format(\"woff\"),url(/developers/postbin/s/fonts/ProximaNova-Regular.otf) format(\"opentype\")}@font-face{font-display:swap;font-weight:600 700;font-family:Proxima Nova;font-style:normal;src:url(/developers/postbin/s/fonts/ProximaNova-Semibold.woff2) format(\"woff2\"),url(/developers/postbin/s/fonts/ProximaNova-Semibold.woff) format(\"woff\"),url(/developers/postbin/s/fonts/ProximaNova-Semibold.otf) format(\"opentype\")}.ttwrapper{display:flex;padding:16px;background:#fff;font-weight:400;font-family:Proxima Nova,Arial,sans-serif;font-size:14px;line-height:22px;align-items:flex-start}.ttwrapper.ttwrapper--light-bg{border-bottom:1px solid #ccc}.ttwrapper__icon{width:15px;height:15px;margin-right:16px;background-image:url(\"data:image/svg+xml,%0A%3Csvg width='15' height='15' viewBox='0 0 15 15' fill='none' xmlns='http://www.w3.org/2000/svg'%3E%3Cpath fill-rule='evenodd' clip-rule='evenodd' d='M7.5 15C11.6421 15 15 11.6421 15 7.5C15 3.35786 11.6421 0 7.5 0C3.35786 0 0 3.35786 0 7.5C0 11.6421 3.35786 15 7.5 15ZM7.5 14C11.0899 14 14 11.0899 14 7.5C14 3.91015 11.0899 1 7.5 1C3.91015 1 1 3.91015 1 7.5C1 11.0899 3.91015 14 7.5 14ZM8 3V9H7V3H8ZM8 12V11H7V12H8Z' fill='%23262D3D'/%3E%3C/svg%3E%0A\");flex-shrink:0;margin-top:5px}.ttwrapper__links{margin-left:auto;align-self:center}.ttwrapper__link,.ttwrapper__link:visited{color:#204ecf;font-weight:600}.ttwrapper__link--api{margin-bottom:10px;display:block}@media (min-width:700px){.ttwrapper{height:70px;padding:0 32px 0 32px;align-items:center}.ttwrapper__link--api{margin-bottom:0}.ttwrapper__icon{margin-top:0}.ttwrapper__content{display:flex;flex-grow:1}}</style><div class=\"ttwrapper ttwrapper--light-bg\"><div class=ttwrapper__icon></div><div class=ttwrapper__content><div class=ttwrapper__text>This site has been acquired by <a href=https://www.toptal.com/developers class=ttwrapper__link>Toptal.com</a>.<br><a class=\"ttwrapper__link ttwrapper__link--api\"href=\"/developers/postbin/api\">(<b>Attention!</b> API endpoint has changed)</a></div><div class=ttwrapper__links><a href=https://www.toptal.com/talent/apply class=ttwrapper__link>Apply as a Freelancer</a></div></div></div><nav class=\"flex items-center justify-between flex-wrap bg-teal p-6\"><a class=\"flex items-center flex-no-shrink text-white mr-6\" href=\"/developers/postbin/\"><span class=\"text-3xl mx-2 fa fa-globe\"></span><span class=\"font-semibold text-xl tracking-tight\">PostBin</span></a><div class=\"block lg:hidden\"><button class=\"flex items-center px-3 py-2 border rounded text-teal-lighter border-teal-light hover:text-white hover:border-white\"><svg class=\"fill-current h-3 w-3\" viewbox=\"0 0 20 20\" xmlns=\"http://www.w3.org/2000/svg\"><title>Menu</title><path d=\"M0 3h20v2H0V3zm0 6h20v2H0V9zm0 6h20v2H0v-2z\"></path></svg></button></div><div class=\"w-full block flex-grow lg:flex lg:items-center lg:w-auto\"><div class=\"lg:flex-grow\"><a class=\"block mt-4 text-white mr-4 lg:inline-block lg:mt-0 hover:text-teal-darker\" href=\"/developers/postbin/api\">API</a></div></div></nav><div class=\"container mx-auto page-content-body\" id=\"app\"><h2>Bin '1643307834115-0520338043570'</h2><div class=\"row border border-grey-dark bg-grey-light p-6\"><h3 class=\"float-right m-0\">[Req '1643308012744-8715678430162' : 35.191.0.153]</h3><h3 class=\"m-0\"><strong>POST /developers/postbin/1643307834115-0520338043570</strong> <small class=\"text-grey\">2022-01-27T18:26:52.744Z</small></h3></div><div class=\"w-full flex\"><div class=\"p-4 border border-grey-light w-1/3\"><h4 class=\"mt-0\">Headers</h4><ul class=\"list-reset\"><li><strong>host</strong>: www.toptal.com</li><li><strong>user-agent</strong>: python-requests/2.22.0</li><li><strong>content-length</strong>: 51</li><li><strong>accept</strong>: */*</li><li><strong>accept-encoding</strong>: gzip</li><li><strong>cdn-loop</strong>: cloudflare</li><li><strong>cf-connecting-ip</strong>: 87.98.181.95</li><li><strong>cf-ipcountry</strong>: FR</li><li><strong>cf-ray</strong>: 6d440826faa739f9-CDG</li><li><strong>cf-visitor</strong>: {&quot;scheme&quot;:&quot;https&quot;}</li><li><strong>x-cloud-trace-context</strong>: 972437de3f6a9b8a18bc004c3d1f6c88/1258752773574647301</li><li><strong>x-forwarded-host</strong>: www.toptal.com</li><li><strong>x-forwarded-server</strong>: traefik2-production-b-traefik-upstream-665f74bc47-w9p5t</li><li><strong>x-real-ip</strong>: 35.191.0.153</li></ul></div><div class=\"p-4 border border-grey-light w-1/3\"><h4 class=\"mt-0\">Query</h4><ul class=\"list-reset\"></ul></div><div class=\"p-4 border border-grey-light w-1/3\"><h4 class=\"mt-0\">Body</h4><ul class=\"list-reset\"></ul></div></div><div class=\"row border border-grey-dark bg-grey-light p-6\"><h3 class=\"float-right m-0\">[Req '1643308268676-2736404915340' : 35.191.0.155]</h3><h3 class=\"m-0\"><strong>GET /developers/postbin/1643307834115-0520338043570</strong> <small class=\"text-grey\">2022-01-27T18:31:08.676Z</small></h3></div><div class=\"w-full flex\"><div class=\"p-4 border border-grey-light w-1/3\"><h4 class=\"mt-0\">Headers</h4><ul class=\"list-reset\"><li><strong>host</strong>: www.toptal.com</li><li><strong>user-agent</strong>: python-requests/2.22.0</li><li><strong>accept</strong>: */*</li><li><strong>accept-encoding</strong>: gzip</li><li><strong>cdn-loop</strong>: cloudflare</li><li><strong>cf-connecting-ip</strong>: 5.196.128.119</li><li><strong>cf-ipcountry</strong>: FR</li><li><strong>cf-ray</strong>: 6d440e663aa83a99-LAX</li><li><strong>cf-visitor</strong>: {&quot;scheme&quot;:&quot;https&quot;}</li><li><strong>x-cloud-trace-context</strong>: 105d58066f8701da716a03a516200c5e/9305718280434265205</li><li><strong>x-forwarded-host</strong>: www.toptal.com</li><li><strong>x-forwarded-server</strong>: traefik2-production-b-traefik-upstream-665f74bc47-w9p5t</li><li><strong>x-real-ip</strong>: 35.191.0.155</li></ul></div><div class=\"p-4 border border-grey-light w-1/3\"><h4 class=\"mt-0\">Query</h4><ul class=\"list-reset\"></ul></div><div class=\"p-4 border border-grey-light w-1/3\"><h4 class=\"mt-0\">Body</h4><ul class=\"list-reset\"></ul></div></div></div><footer class=\"bg-grey-lighter p-8 mt-12 border-t border-grey\"></footer><script src=\"https://cdnjs.cloudflare.com/ajax/libs/vue/2.5.17/vue.min.js\" integrity=\"sha256-FtWfRI+thWlNz2sB3SJbwKx5PgMyKIVgwHCTwa3biXc=\" crossorigin=\"anonymous\"></script><script src=\"/developers/postbin/s/js/main.js\"></script><script defer src=\"https://static.cloudflareinsights.com/beacon.min.js/v652eace1692a40cfa3763df669d7439c1639079717194\" integrity=\"sha512-Gi7xpJR8tSkrpF7aordPZQlW2DLtzUlZcumS8dMQjwDHEnw9I7ZLyiOj/6tZStRBGtGgN6ceN6cMH8z7etPGlw==\" data-cf-beacon='{\"rayId\":\"6d4410c17d55089b\",\"token\":\"7da7549002684d63b0f6277c72d857c2\",\"version\":\"2021.12.0\",\"si\":100}' crossorigin=\"anonymous\"></script>\n",
      "</body></html>\n"
     ]
    }
   ],
   "source": [
    "response_get = requests.get('https://www.toptal.com/developers/postbin/b/1643307834115-0520338043570')\n",
    "print(response_get.text)"
   ]
  },
  {
   "cell_type": "code",
   "execution_count": null,
   "metadata": {},
   "outputs": [],
   "source": []
  }
 ],
 "metadata": {
  "kernelspec": {
   "display_name": "Python 3",
   "language": "python",
   "name": "python3"
  },
  "language_info": {
   "codemirror_mode": {
    "name": "ipython",
    "version": 3
   },
   "file_extension": ".py",
   "mimetype": "text/x-python",
   "name": "python",
   "nbconvert_exporter": "python",
   "pygments_lexer": "ipython3",
   "version": "3.7.6"
  }
 },
 "nbformat": 4,
 "nbformat_minor": 4
}
