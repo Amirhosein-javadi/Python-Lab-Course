{
 "cells": [
  {
   "cell_type": "markdown",
   "source": [
    "Q2-1"
   ],
   "metadata": {}
  },
  {
   "cell_type": "code",
   "execution_count": null,
   "source": [
    "list1 = []\r\n",
    "list1.append('97101518')\r\n",
    "list1.append('M.Amin H.Khodaverdian')\r\n",
    "print(list1)"
   ],
   "outputs": [],
   "metadata": {}
  },
  {
   "cell_type": "code",
   "execution_count": null,
   "source": [
    "list2 = []\r\n",
    "list2.append('97101701')\r\n",
    "list2.append('Hamed Rastaghi')\r\n",
    "\r\n",
    "list3 = []\r\n",
    "list3.append('97101489')\r\n",
    "list3.append('Amir Javadi')\r\n",
    "\r\n",
    "list4 = []\r\n",
    "list4.append('97101207')\r\n",
    "list4.append('M.Ali Ahmadi')\r\n",
    "\r\n",
    "list_sum = [list1,list2,list3,list4]\r\n",
    "\r\n",
    "print(list_sum[1][1])\r\n",
    "\r\n",
    "print(list_sum[3][0])"
   ],
   "outputs": [],
   "metadata": {}
  },
  {
   "cell_type": "markdown",
   "source": [
    "As we can see the first indice in list_sum[i][j] refers to the selection of the inner list and j refers to the selection of the jth component of that inner list."
   ],
   "metadata": {}
  },
  {
   "cell_type": "markdown",
   "source": [
    "Q2-2"
   ],
   "metadata": {}
  },
  {
   "cell_type": "code",
   "execution_count": null,
   "source": [
    "list1 = ()\r\n",
    "list1.append('97101518')\r\n",
    "list1.append('M.Amin H.Khodaverdian')\r\n",
    "print(list1)"
   ],
   "outputs": [],
   "metadata": {}
  },
  {
   "cell_type": "markdown",
   "source": [
    "'tuple' object has no attribute 'append'"
   ],
   "metadata": {}
  },
  {
   "cell_type": "code",
   "execution_count": 6,
   "source": [
    "tuple1 = ((1,4),(2,5),(3,6))\r\n",
    "print(tuple1[0][1])"
   ],
   "outputs": [
    {
     "output_type": "stream",
     "name": "stdout",
     "text": [
      "4\n"
     ]
    }
   ],
   "metadata": {}
  },
  {
   "cell_type": "markdown",
   "source": [
    "In tuple we have same indexing as we had in lists"
   ],
   "metadata": {}
  },
  {
   "cell_type": "markdown",
   "source": [
    "Q2-3"
   ],
   "metadata": {}
  },
  {
   "cell_type": "code",
   "execution_count": 7,
   "source": [
    "nation = ['Roman','Egypt','Greek','Chinese','Islamic','Mayan','Persian','Mongol']\r\n",
    "golden_age = ['27BC-1453AD','3150BC-30BC','800BC-600AD','221BC-1912AD','750AD-1257AD','2000BC-1540AD','550BC-651AD','1206AD-1368AD']\r\n",
    "ziped = zip(nation , golden_age)\r\n",
    "Dict1 = dict(ziped)\r\n",
    "print(Dict1)"
   ],
   "outputs": [
    {
     "output_type": "stream",
     "name": "stdout",
     "text": [
      "{'Roman': '27BC-1453AD', 'Egypt': '3150BC-30BC', 'Greek': '800BC-600AD', 'Chinese': '221BC-1912AD', 'Islamic': '750AD-1257AD', 'Mayan': '2000BC-1540AD', 'Persian': '550BC-651AD', 'Mongol': '1206AD-1368AD'}\n"
     ]
    }
   ],
   "metadata": {}
  },
  {
   "cell_type": "markdown",
   "source": [
    "Getting Values by Key:"
   ],
   "metadata": {}
  },
  {
   "cell_type": "code",
   "execution_count": 8,
   "source": [
    "print(Dict1['Greek'])"
   ],
   "outputs": [
    {
     "output_type": "stream",
     "name": "stdout",
     "text": [
      "800BC-600AD\n"
     ]
    }
   ],
   "metadata": {}
  },
  {
   "cell_type": "markdown",
   "source": [
    "Getting Keys by Value:"
   ],
   "metadata": {}
  },
  {
   "cell_type": "code",
   "execution_count": 11,
   "source": [
    "print(list(Dict1.keys())[list(Dict1.values()).index('27BC-1453AD')])"
   ],
   "outputs": [
    {
     "output_type": "stream",
     "name": "stdout",
     "text": [
      "Roman\n"
     ]
    }
   ],
   "metadata": {}
  },
  {
   "cell_type": "markdown",
   "source": [
    "Q2-4"
   ],
   "metadata": {}
  },
  {
   "cell_type": "code",
   "execution_count": 12,
   "source": [
    "a = [2**i for i in range (17)]\r\n",
    "b = [x*x for x in range (1,5)]\r\n",
    "c = [a[x] for x in b if x % 2 == 0]\r\n",
    "print(a)\r\n",
    "print(b)\r\n",
    "print(c)"
   ],
   "outputs": [
    {
     "output_type": "stream",
     "name": "stdout",
     "text": [
      "[1, 2, 4, 8, 16, 32, 64, 128, 256, 512, 1024, 2048, 4096, 8192, 16384, 32768, 65536]\n",
      "[1, 4, 9, 16]\n",
      "[16, 65536]\n"
     ]
    }
   ],
   "metadata": {}
  },
  {
   "cell_type": "markdown",
   "source": [
    "a will give us a list of 2 to the power of integer numbers between 0 and 16(16 included)\r\n",
    "\r\n",
    "b will give us a list of squares of integer numbers between 0 and 4(4 included)\r\n",
    "\r\n",
    "c will give us a list of numbers that are in list a and their index is in b with the constraint of being divisible to 2"
   ],
   "metadata": {}
  },
  {
   "cell_type": "markdown",
   "source": [
    "Q2-5"
   ],
   "metadata": {}
  },
  {
   "cell_type": "code",
   "execution_count": 13,
   "source": [
    "name_list = [ ['M.Amin' , 'H.Khodaverdian'] , [ 'Hamed' , 'Rastaghi'] , ['Amir' , 'Javadi'] , ['M.Ali', 'Ahmadi']]\r\n",
    "func = lambda x: x[0]+' '+x[1]\r\n",
    "fullname_list = [func(i) for i in name_list ]\r\n",
    "print(fullname_list)"
   ],
   "outputs": [
    {
     "output_type": "stream",
     "name": "stdout",
     "text": [
      "['M.Amin H.Khodaverdian', 'Hamed Rastaghi', 'Amir Javadi', 'M.Ali Ahmadi']\n"
     ]
    }
   ],
   "metadata": {}
  }
 ],
 "metadata": {
  "orig_nbformat": 4,
  "language_info": {
   "name": "python",
   "version": "3.9.6",
   "mimetype": "text/x-python",
   "codemirror_mode": {
    "name": "ipython",
    "version": 3
   },
   "pygments_lexer": "ipython3",
   "nbconvert_exporter": "python",
   "file_extension": ".py"
  },
  "kernelspec": {
   "name": "python3",
   "display_name": "Python 3.9.6 64-bit"
  },
  "interpreter": {
   "hash": "515f3b9a8bddcd73031b1f20d3a2cc76fbdc76525a0934f6c33e39288295aac7"
  }
 },
 "nbformat": 4,
 "nbformat_minor": 2
}