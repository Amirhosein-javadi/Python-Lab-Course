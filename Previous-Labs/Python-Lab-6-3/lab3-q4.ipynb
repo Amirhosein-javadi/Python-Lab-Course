{
 "cells": [
  {
   "cell_type": "markdown",
   "id": "0cdc29c2-9f6a-45f7-96ca-4e3862ebb058",
   "metadata": {},
   "source": [
    "# 4-1"
   ]
  },
  {
   "cell_type": "code",
   "execution_count": 1,
   "id": "50601cca-35a2-435b-adb8-b7e93cf439b6",
   "metadata": {},
   "outputs": [
    {
     "name": "stdin",
     "output_type": "stream",
     "text": [
      "Enter your first string : kitten\n",
      "Enter your second string : sitting\n"
     ]
    },
    {
     "name": "stdout",
     "output_type": "stream",
     "text": [
      "Levenshtein distance of your inputs is : 3\n"
     ]
    }
   ],
   "source": [
    "string_1 = input(\"Enter your first string :\")\n",
    "string_2 = input(\"Enter your second string :\")\n",
    "def lev_dis (s1, s2):\n",
    "    if len(s1) * len(s2) == 0 :\n",
    "        return max(len(s1), len(s2))\n",
    "    elif s1[0] == s2[0] :\n",
    "        return lev_dis(s1[1:], s2[1:])\n",
    "    else :\n",
    "        return 1 + min(lev_dis(s1[1:], s2), lev_dis(s1, s2[1:]), lev_dis(s1[1:], s2[1:]))\n",
    "\n",
    "print(f\"Levenshtein distance of your inputs is : {lev_dis(string_1, string_2)}\")\n",
    "        "
   ]
  },
  {
   "cell_type": "markdown",
   "id": "ca96565a-4b2d-4c73-b7d7-45ef35cf05ca",
   "metadata": {},
   "source": [
    "# 4-1 bonus part"
   ]
  },
  {
   "cell_type": "code",
   "execution_count": 2,
   "id": "058ee585-e416-4c46-842c-e36e4074bbf0",
   "metadata": {},
   "outputs": [
    {
     "name": "stdin",
     "output_type": "stream",
     "text": [
      "Enter your first string : kitten\n",
      "Enter your second string : sitting\n"
     ]
    },
    {
     "name": "stdout",
     "output_type": "stream",
     "text": [
      "Levenshtein distance of your inputs is : 3\n"
     ]
    }
   ],
   "source": [
    "str_1 = input(\"Enter your first string :\")\n",
    "str_2 = input(\"Enter your second string :\")\n",
    "l1 = len(str_1)\n",
    "l2 = len(str_2)\n",
    "# d[i][j] is levenshtein distance between str_1[:i+1] and str_2[:j+1]\n",
    "d = [[None for i in range(l2+1)] for i in range(l1+1)]\n",
    "def dp_lev(s1, s2) :\n",
    "    for i in range(l1+1) :\n",
    "        for j in range(l2+1):\n",
    "            if i * j == 0 :\n",
    "                d[i][j] = max(i, j)\n",
    "            \n",
    "            else :\n",
    "                if s1[i-1] == s2[j-1] :\n",
    "                    sub_cost = 0\n",
    "                else :\n",
    "                    sub_cost = 1\n",
    "                d[i][j] = min (1+d[i-1][j], 1+d[i][j-1], sub_cost+d[i-1][j-1])\n",
    "                \n",
    "    return d[l1][l2]\n",
    "print(f\"Levenshtein distance of your inputs is : {dp_lev(str_1, str_2)}\")"
   ]
  },
  {
   "cell_type": "markdown",
   "id": "f6ea6499-9860-4122-b7db-a9005ba34b77",
   "metadata": {},
   "source": [
    "# 4-2"
   ]
  },
  {
   "cell_type": "code",
   "execution_count": 4,
   "id": "2521bc53-2210-471d-a724-6e027b74a2d7",
   "metadata": {},
   "outputs": [
    {
     "name": "stdin",
     "output_type": "stream",
     "text": [
      "Enter first number : 19\n"
     ]
    },
    {
     "name": "stdout",
     "output_type": "stream",
     "text": [
      "your collatz array is :[19, 58, 29, 88, 44, 22, 11, 34, 17, 52, 26, 13, 40, 20, 10, 5, 16, 8, 4, 2, 1]\n"
     ]
    }
   ],
   "source": [
    "first_num = int(input(\"Enter first number :\"))\n",
    "arr = []\n",
    "arr.append(first_num)\n",
    "def collatz(arr):\n",
    "    last = arr[-1]\n",
    "    if last == 1:\n",
    "        return arr\n",
    "    elif last % 2 == 0:\n",
    "        arr.append(last // 2)\n",
    "        return collatz(arr)\n",
    "    else :\n",
    "        arr.append(3 * last + 1)\n",
    "        return collatz(arr)\n",
    "print(f\"your collatz array is :{collatz(arr)}\")"
   ]
  },
  {
   "cell_type": "code",
   "execution_count": 5,
   "id": "51c3f615-103f-48d6-8bf8-602646fd8db9",
   "metadata": {},
   "outputs": [
    {
     "name": "stdout",
     "output_type": "stream",
     "text": [
      "The answer is : 871 and the lenght of it is : 179\n",
      "And the collatz array is :[871, 2614, 1307, 3922, 1961, 5884, 2942, 1471, 4414, 2207, 6622, 3311, 9934, 4967, 14902, 7451, 22354, 11177, 33532, 16766, 8383, 25150, 12575, 37726, 18863, 56590, 28295, 84886, 42443, 127330, 63665, 190996, 95498, 47749, 143248, 71624, 35812, 17906, 8953, 26860, 13430, 6715, 20146, 10073, 30220, 15110, 7555, 22666, 11333, 34000, 17000, 8500, 4250, 2125, 6376, 3188, 1594, 797, 2392, 1196, 598, 299, 898, 449, 1348, 674, 337, 1012, 506, 253, 760, 380, 190, 95, 286, 143, 430, 215, 646, 323, 970, 485, 1456, 728, 364, 182, 91, 274, 137, 412, 206, 103, 310, 155, 466, 233, 700, 350, 175, 526, 263, 790, 395, 1186, 593, 1780, 890, 445, 1336, 668, 334, 167, 502, 251, 754, 377, 1132, 566, 283, 850, 425, 1276, 638, 319, 958, 479, 1438, 719, 2158, 1079, 3238, 1619, 4858, 2429, 7288, 3644, 1822, 911, 2734, 1367, 4102, 2051, 6154, 3077, 9232, 4616, 2308, 1154, 577, 1732, 866, 433, 1300, 650, 325, 976, 488, 244, 122, 61, 184, 92, 46, 23, 70, 35, 106, 53, 160, 80, 40, 20, 10, 5, 16, 8, 4, 2, 1]\n"
     ]
    }
   ],
   "source": [
    "len_max = 1\n",
    "i_len_max = 1\n",
    "for i in range(1, 1000):\n",
    "    a = []\n",
    "    a.append(i)\n",
    "    if len(collatz(a)) > len_max :\n",
    "        i_len_max = i\n",
    "        len_max = len(collatz(a))\n",
    "a = []\n",
    "a.append(i_len_max)\n",
    "print(f\"The answer is : {i_len_max} and the lenght of it is : {len_max}\")\n",
    "print(f\"And the collatz array is :{collatz(a)}\")\n",
    "    "
   ]
  },
  {
   "cell_type": "markdown",
   "id": "18403aa4-2123-4494-9ec9-fb59d7dca837",
   "metadata": {},
   "source": [
    "# 4-3"
   ]
  },
  {
   "cell_type": "code",
   "execution_count": 6,
   "id": "0bf82ab2-6848-431d-984b-b81991c212df",
   "metadata": {},
   "outputs": [
    {
     "name": "stdout",
     "output_type": "stream",
     "text": [
      "best dist is : 6\n",
      "center is :  [0, 2]\n"
     ]
    }
   ],
   "source": [
    "\n",
    "Table = [[1, 0, 0, 0, 1],\n",
    "[0, 0, 0, 0, 0],\n",
    "[0, 0, 1, 0, 0]] \n",
    "best_dist = float('inf')\n",
    "center = [0, 0]\n",
    "\n",
    "x = len(Table)\n",
    "y = len(Table[0])\n",
    "for i in range(x):\n",
    "    for j in range(y):\n",
    "        dist = 0\n",
    "        for k in range(x):\n",
    "            for l in range(y):\n",
    "                if Table[k][l]==1:\n",
    "                    dist = dist + abs(k-i) + abs(l-j)\n",
    "        if  dist < best_dist:\n",
    "            best_dist = dist\n",
    "            center[0] = i \n",
    "            center[1] = j\n",
    "\n",
    "print(\"best dist is :\", best_dist )\n",
    "print('center is : ', center)"
   ]
  },
  {
   "cell_type": "markdown",
   "id": "31935437-6403-4e42-93a7-9f8e9bd0111d",
   "metadata": {},
   "source": [
    "# 4-4"
   ]
  },
  {
   "cell_type": "code",
   "execution_count": 7,
   "id": "2c27aa74-099c-44e9-9d8d-d6e22af2df75",
   "metadata": {},
   "outputs": [],
   "source": [
    "def find_str(string, i , j , i_previous , j_previous , Table):\n",
    "    char = string[0]\n",
    "    n_row = len(Table)\n",
    "    n_col = len(Table[0][0])\n",
    "    if i+1 < n_row and i+1 != i_previous:\n",
    "        if char == Table[i+1][0][j]:\n",
    "            if len(string) == 1:\n",
    "                return True\n",
    "            else:\n",
    "                return find_str(string[1:], i+1 , j , i , j , Table)\n",
    "    if j+1 < n_col and j+1 != j_previous:\n",
    "        if char == Table[i][0][j+1]:\n",
    "            if len(string) == 1:\n",
    "                return True\n",
    "            else:\n",
    "                return find_str(string[1:], i , j+1 , i , j , Table)\n",
    "    if i-1 >= 0 and i-1 != i_previous:\n",
    "        if char == Table[i-1][0][j]:\n",
    "            if len(string) == 1:\n",
    "                return True\n",
    "            else:\n",
    "                return find_str(string[1:], i-1 , j , i , j , Table)\n",
    "    if j-1 >= 0 and j-1 != j_previous:\n",
    "        if char == Table[i][0][j-1]:\n",
    "            if len(string) == 1:\n",
    "                return True\n",
    "            else:\n",
    "                return find_str(string[1:], i , j-1 , i , j , Table)\n",
    "    return False\n"
   ]
  },
  {
   "cell_type": "code",
   "execution_count": 9,
   "id": "fee6d4fd-19de-482a-acb8-f15389a8a671",
   "metadata": {},
   "outputs": [
    {
     "name": "stdout",
     "output_type": "stream",
     "text": [
      "Enter your string\n"
     ]
    },
    {
     "name": "stdin",
     "output_type": "stream",
     "text": [
      " ABCCEESE\n"
     ]
    },
    {
     "name": "stdout",
     "output_type": "stream",
     "text": [
      "your string is :  ABCCEESE\n",
      "True\n"
     ]
    }
   ],
   "source": [
    "Table = [[\"ABCE\"],\n",
    "         [\"SFCS\"],\n",
    "         [\"ADEE\"]]\n",
    "print('Enter your string')\n",
    "string = input()\n",
    "print('your string is : ',string)\n",
    "\n",
    "n_row = len(Table)\n",
    "n_col = len(Table[0][0])\n",
    "flag = 0\n",
    "for i in range(n_row):\n",
    "    for j in range(n_col):\n",
    "        if string[0] == Table[i][0][j]:\n",
    "            if find_str(string[1:], i , j , i , j , Table):\n",
    "                flag = 1\n",
    "if flag:\n",
    "    print('True')\n",
    "else:\n",
    "    print('False')"
   ]
  },
  {
   "cell_type": "markdown",
   "id": "af2b170f-3455-4567-83b9-92c588071f50",
   "metadata": {},
   "source": [
    "# 4-4 bonus part"
   ]
  },
  {
   "cell_type": "code",
   "execution_count": 10,
   "id": "085797fa-b660-4ade-8426-e26017e930fc",
   "metadata": {},
   "outputs": [
    {
     "name": "stdin",
     "output_type": "stream",
     "text": [
      "Enter C : 50\n",
      "Enter F : 2\n",
      "Enter N : 5\n",
      "Enter D[] : 20 30 40 45 60\n",
      "Enter P[] : 1 3 1 2 5\n"
     ]
    },
    {
     "name": "stdout",
     "output_type": "stream",
     "text": [
      "minimum cost is utill each gas staton is : [40, 40, 80, 100, 250]\n"
     ]
    }
   ],
   "source": [
    "capacity = int(input(\"Enter C :\"))\n",
    "fuel_consumption = int(input(\"Enter F :\"))\n",
    "n = int(input(\"Enter N :\"))\n",
    "d = list(map(int, input(\"Enter D[] :\").split()))\n",
    "p = list(map(int, input(\"Enter P[] :\").split()))\n",
    "\n",
    "d.append(d[-1])\n",
    "p.append(p[-1])\n",
    "current_cap = capacity\n",
    "# cost[i] is minimum cost when car is in (i+1)th gas station\n",
    "cost = [None for i in range(n)]\n",
    "for i in range(n):\n",
    "    \n",
    "    if current_cap < 0 :\n",
    "        print(\"The fuel tank is small\")\n",
    "        break\n",
    "    if i == 0 :\n",
    "        current_cap = current_cap - fuel_consumption * d[i]\n",
    "    else :\n",
    "        current_cap = current_cap - fuel_consumption * (d[i]-d[i-1])\n",
    "    prev_cost = 0 if i == 0 else cost[i-1]\n",
    "    if (d[i+1]-d[i]) * fuel_consumption > current_cap : # if there is not enough fuel untill next gas station\n",
    "        cost[i] = prev_cost + (capacity-current_cap) * p[i]\n",
    "        current_cap = capacity\n",
    "    else :\n",
    "        check = 0\n",
    "        for j in range(i+1, n): # is there any cheaper price in the next ones?\n",
    "           \n",
    "            if capacity * fuel_consumption + d[i] > d[j] :\n",
    "                if p[j] < p[i] :\n",
    "                    check = 1\n",
    "                    break\n",
    "            \n",
    "        if check :\n",
    "            cost[i] = prev_cost\n",
    "        else :\n",
    "            cost[i] = prev_cost + (capacity-current_cap) * p[i]\n",
    "            current_cap = capacity\n",
    "\n",
    "print(f\"minimum cost is utill each gas staton is : {cost}\")     \n",
    " \n",
    "    \n",
    "    "
   ]
  },
  {
   "cell_type": "code",
   "execution_count": null,
   "id": "7d26366c-14a9-4bfe-b4ad-a4889851a414",
   "metadata": {},
   "outputs": [],
   "source": []
  }
 ],
 "metadata": {
  "kernelspec": {
   "display_name": "Python 3 (ipykernel)",
   "language": "python",
   "name": "python3"
  },
  "language_info": {
   "codemirror_mode": {
    "name": "ipython",
    "version": 3
   },
   "file_extension": ".py",
   "mimetype": "text/x-python",
   "name": "python",
   "nbconvert_exporter": "python",
   "pygments_lexer": "ipython3",
   "version": "3.10.0"
  }
 },
 "nbformat": 4,
 "nbformat_minor": 5
}
