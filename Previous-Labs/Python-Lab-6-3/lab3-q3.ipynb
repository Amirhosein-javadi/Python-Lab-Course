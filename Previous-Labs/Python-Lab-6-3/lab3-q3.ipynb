{
 "cells": [
  {
   "cell_type": "markdown",
   "id": "3a73fd5c-c1ca-4bfd-b02f-db58e69c21c0",
   "metadata": {},
   "source": [
    "# 3-1\n"
   ]
  },
  {
   "cell_type": "code",
   "execution_count": 2,
   "id": "911fbf4e-58d9-40a1-9263-25aa45cb3b06",
   "metadata": {},
   "outputs": [
    {
     "name": "stdout",
     "output_type": "stream",
     "text": [
      "# conda environments:\n",
      "#\n",
      "base                     /home/srinivasazarei/anaconda3\n",
      "mamal                    /home/srinivasazarei/anaconda3/envs/mamal\n",
      "mohammadali              /home/srinivasazarei/anaconda3/envs/mohammadali\n",
      "py37                  *  /home/srinivasazarei/anaconda3/envs/py37\n",
      "\n"
     ]
    }
   ],
   "source": [
    "!conda env list"
   ]
  },
  {
   "cell_type": "code",
   "execution_count": 3,
   "id": "23aa2539-3188-437e-95c2-49035e2019c3",
   "metadata": {},
   "outputs": [
    {
     "name": "stdout",
     "output_type": "stream",
     "text": [
      "Collecting package metadata (current_repodata.json): done\n",
      "Solving environment: done\n",
      "\n",
      "\n",
      "==> WARNING: A newer version of conda exists. <==\n",
      "  current version: 4.8.2\n",
      "  latest version: 4.10.3\n",
      "\n",
      "Please update conda by running\n",
      "\n",
      "    $ conda update -n base -c defaults conda\n",
      "\n",
      "\n",
      "\n",
      "## Package Plan ##\n",
      "\n",
      "  environment location: /home/srinivasazarei/anaconda3/envs/mohammadali\n",
      "\n",
      "\n",
      "\n",
      "Preparing transaction: done\n",
      "Verifying transaction: done\n",
      "Executing transaction: done\n",
      "#\n",
      "# To activate this environment, use\n",
      "#\n",
      "#     $ conda activate mohammadali\n",
      "#\n",
      "# To deactivate an active environment, use\n",
      "#\n",
      "#     $ conda deactivate\n",
      "\n"
     ]
    }
   ],
   "source": [
    "!conda create --name mohammadali -y"
   ]
  },
  {
   "cell_type": "code",
   "execution_count": 4,
   "id": "a4d9c465-0ca5-4752-a254-f92ce9841ebe",
   "metadata": {},
   "outputs": [
    {
     "name": "stdout",
     "output_type": "stream",
     "text": [
      "# conda environments:\n",
      "#\n",
      "base                     /home/srinivasazarei/anaconda3\n",
      "mamal                    /home/srinivasazarei/anaconda3/envs/mamal\n",
      "mohammadali              /home/srinivasazarei/anaconda3/envs/mohammadali\n",
      "py37                  *  /home/srinivasazarei/anaconda3/envs/py37\n",
      "\n"
     ]
    }
   ],
   "source": [
    "!conda env list"
   ]
  },
  {
   "cell_type": "markdown",
   "id": "1e41db45-3f2e-467f-925e-4d6887749a82",
   "metadata": {},
   "source": [
    "# how to active and deactive an environment and show the list of them "
   ]
  },
  {
   "cell_type": "markdown",
   "id": "99fe3173-c444-4619-98fd-0a879509333a",
   "metadata": {},
   "source": [
    "## conda activate mohammadali"
   ]
  },
  {
   "cell_type": "markdown",
   "id": "819ca570-7fa6-43ea-ace3-6ef085d124e2",
   "metadata": {},
   "source": [
    "![first-pic](conda-activate.PNG)\n"
   ]
  },
  {
   "cell_type": "code",
   "execution_count": 2,
   "id": "47e48164-f2f8-41d2-b4bb-e4f369e5ce91",
   "metadata": {},
   "outputs": [
    {
     "name": "stdout",
     "output_type": "stream",
     "text": [
      "# conda environments:\n",
      "#\n",
      "base                     /home/srinivasazarei/anaconda3\n",
      "mamal                    /home/srinivasazarei/anaconda3/envs/mamal\n",
      "mohammadali           *  /home/srinivasazarei/anaconda3/envs/mohammadali\n",
      "py37                     /home/srinivasazarei/anaconda3/envs/py37\n",
      "\n"
     ]
    }
   ],
   "source": [
    "!conda env list"
   ]
  },
  {
   "cell_type": "markdown",
   "id": "30141e66-a6d9-42da-a808-e29315a11123",
   "metadata": {},
   "source": [
    "## conda deactivate"
   ]
  },
  {
   "cell_type": "markdown",
   "id": "e6dafa21-b80a-4a54-9219-5b862b02fee1",
   "metadata": {},
   "source": [
    "![second-pic](conda-deactivate.PNG)"
   ]
  },
  {
   "cell_type": "markdown",
   "id": "b5941b8c-7a85-441b-82aa-effb15462ab3",
   "metadata": {},
   "source": [
    "# 3-2"
   ]
  },
  {
   "cell_type": "code",
   "execution_count": 3,
   "id": "9356a9af-0a12-46dd-bd2c-0d5201ffbe86",
   "metadata": {},
   "outputs": [
    {
     "name": "stdout",
     "output_type": "stream",
     "text": [
      "Writing mohammadali.py\n"
     ]
    }
   ],
   "source": [
    "%%writefile mohammadali.py\n",
    "n = int(input())\n",
    "def majzor(n):\n",
    "    return n**2\n",
    "print(majzor(n))"
   ]
  },
  {
   "cell_type": "markdown",
   "id": "9a4f5746-bcd3-4d93-a620-c99dffd57751",
   "metadata": {},
   "source": [
    "### When the interpreter executes the import statement, it searches for mohammadali.py in a list of directories assembled from the following sources:"
   ]
  },
  {
   "cell_type": "markdown",
   "id": "c347cb1b-733b-450a-91cd-88a65b7497fd",
   "metadata": {},
   "source": [
    "- The directory from which the input script was run or the current directory if the interpreter is being run interactively\n",
    "- The list of directories contained in the `PYTHONPATH` environment variable, if it is set. (The format for PYTHONPATH is OS-dependent but should mimic the PATH environment variable.)\n",
    "- An installation-dependent list of directories configured at the time Python is installed\n"
   ]
  },
  {
   "cell_type": "markdown",
   "id": "6d8ca320-b62b-4cce-801b-91cee7a3cc83",
   "metadata": {},
   "source": [
    "The resulting search path is accessible in the Python variable `sys.path`, which is obtained from a module named `sys`:"
   ]
  },
  {
   "cell_type": "code",
   "execution_count": 4,
   "id": "f04d3234-49a1-4a4f-b877-74cb853d0bae",
   "metadata": {},
   "outputs": [
    {
     "data": {
      "text/plain": [
       "['/mnt/c/Users/mamal/Desktop/lab-3-git/Python-Lab-6',\n",
       " '/home/srinivasazarei/anaconda3/envs/mohammadali/lib/python310.zip',\n",
       " '/home/srinivasazarei/anaconda3/envs/mohammadali/lib/python3.10',\n",
       " '/home/srinivasazarei/anaconda3/envs/mohammadali/lib/python3.10/lib-dynload',\n",
       " '',\n",
       " '/home/srinivasazarei/anaconda3/envs/mohammadali/lib/python3.10/site-packages',\n",
       " '/home/srinivasazarei/anaconda3/envs/mohammadali/lib/python3.10/site-packages/IPython/extensions',\n",
       " '/home/srinivasazarei/.ipython']"
      ]
     },
     "execution_count": 4,
     "metadata": {},
     "output_type": "execute_result"
    }
   ],
   "source": [
    "import sys\n",
    "sys.path"
   ]
  },
  {
   "cell_type": "code",
   "execution_count": 5,
   "id": "9d898b1b-8915-455e-9a59-2f68e09ab9c5",
   "metadata": {},
   "outputs": [
    {
     "name": "stdin",
     "output_type": "stream",
     "text": [
      " 5\n"
     ]
    },
    {
     "name": "stdout",
     "output_type": "stream",
     "text": [
      "25\n"
     ]
    }
   ],
   "source": [
    "import mohammadali"
   ]
  },
  {
   "cell_type": "markdown",
   "id": "69c8e617-154f-4803-904e-3d49b8fe8a48",
   "metadata": {},
   "source": [
    "An alternate form of the `import` statement allows individual objects from the module to be imported directly into the caller’s symbol table:\n",
    "\n",
    "```python\n",
    "from <module_name> import <name(s)>\n",
    "```"
   ]
  },
  {
   "cell_type": "code",
   "execution_count": 6,
   "id": "49908c17-feed-4f83-aafa-bf081589d6e7",
   "metadata": {},
   "outputs": [
    {
     "name": "stdin",
     "output_type": "stream",
     "text": [
      " 6\n"
     ]
    },
    {
     "name": "stdout",
     "output_type": "stream",
     "text": [
      "36\n"
     ]
    }
   ],
   "source": [
    "from mohammadali import majzor\n",
    "a = int(input())\n",
    "print(majzor(a))"
   ]
  },
  {
   "cell_type": "markdown",
   "id": "1e444317-ade3-4008-ab1f-c17beb7a00e2",
   "metadata": {},
   "source": [
    "# 3-3"
   ]
  },
  {
   "cell_type": "code",
   "execution_count": 7,
   "id": "cf01fae3-c2c0-4a93-bea8-91afc481371d",
   "metadata": {},
   "outputs": [],
   "source": [
    "txt = open('python_lab.txt', 'w')"
   ]
  },
  {
   "cell_type": "code",
   "execution_count": 8,
   "id": "3f0e1b94-2afc-41f2-bfde-d0cb6bbb34db",
   "metadata": {},
   "outputs": [
    {
     "data": {
      "text/plain": [
       "87"
      ]
     },
     "execution_count": 8,
     "metadata": {},
     "output_type": "execute_result"
    }
   ],
   "source": [
    "txt.write(\"Mohammadali Ahmadizarei\\nAmirhosein Javadi\\nMohammadamin Hajikhodaverdian\\nHamed Rastaghi\\n\")"
   ]
  },
  {
   "cell_type": "code",
   "execution_count": 9,
   "id": "63019f59-3cbd-4aa7-a2f7-1aa8217d1ee2",
   "metadata": {},
   "outputs": [],
   "source": [
    "txt.close()"
   ]
  },
  {
   "cell_type": "code",
   "execution_count": 10,
   "id": "260dbb0f-f519-45f3-9f54-16538798237a",
   "metadata": {},
   "outputs": [],
   "source": [
    "with open('python_lab.txt', 'a') as edit :\n",
    "    edit.write(\"97101207\\n97101489\\n97101518\\n97101701\")"
   ]
  },
  {
   "cell_type": "markdown",
   "id": "5d7857b5-c9f5-44e7-b32d-a0d0814d6ec2",
   "metadata": {},
   "source": [
    "## The with statement automatically takes care of closing the file once it leaves the with block, even in cases of error.\n",
    "## .read() will read all the the file utill end in a string , if you give a number n to input it will read utill n'th character.\n",
    "## .readlines() will return a list including strings of each line"
   ]
  },
  {
   "cell_type": "code",
   "execution_count": 11,
   "id": "7d0af526-1bac-4857-a8ee-4770b6c779fd",
   "metadata": {},
   "outputs": [
    {
     "name": "stdout",
     "output_type": "stream",
     "text": [
      "Mohammadali Ahmadizarei\n",
      "Amirhosein Javadi\n",
      "Mohammadamin Hajikhodaverdian\n",
      "Hamed Rastaghi\n",
      "97101207\n",
      "97101489\n",
      "97101518\n",
      "97101701\n",
      "['Mohammadali Ahmadizarei\\n', 'Amirhosein Javadi\\n', 'Mohammadamin Hajikhodaverdian\\n', 'Hamed Rastaghi\\n', '97101207\\n', '97101489\\n', '97101518\\n', '97101701']\n"
     ]
    }
   ],
   "source": [
    "with open('python_lab.txt') as file :# with will gurantee\n",
    "    print(file.read()) \n",
    "    file.seek(0)\n",
    "    print(file.readlines())"
   ]
  },
  {
   "cell_type": "markdown",
   "id": "4e5d250d-1a82-4f0e-b40c-f49459feae79",
   "metadata": {},
   "source": [
    "# 3-4"
   ]
  },
  {
   "cell_type": "code",
   "execution_count": 12,
   "id": "7a71c95a-8457-4799-a36e-c28b4c4b536f",
   "metadata": {},
   "outputs": [],
   "source": [
    "import os\n",
    "if not os.path.exists('input_files'):\n",
    "    os.makedirs('input_files')"
   ]
  },
  {
   "cell_type": "code",
   "execution_count": 13,
   "id": "4dbd74e3-d699-4eea-8278-34a2ba1126ae",
   "metadata": {},
   "outputs": [],
   "source": [
    "with open('./input_files/python_lab.txt', 'w') as f :\n",
    "    f.write('Mohammadali Ahmadizarei\\n97101207\\n')"
   ]
  },
  {
   "cell_type": "markdown",
   "id": "1d914d8a-5b80-4485-b543-d7408044741a",
   "metadata": {},
   "source": [
    "# 3-5"
   ]
  },
  {
   "cell_type": "code",
   "execution_count": 15,
   "id": "cbf55ee9-b9e8-4a9c-ba12-367c575a3df2",
   "metadata": {},
   "outputs": [],
   "source": [
    "import csv\n",
    "with open('./helper_files/data.csv', 'r') as csv_file :\n",
    "    csv_reader = csv.reader(csv_file)\n",
    "    with open('new_data.csv', 'w') as new_file :\n",
    "        csv_writer = csv.writer(new_file)\n",
    "        for line in csv_reader :\n",
    "            line[0] = ' '\n",
    "            csv_writer.writerow(line)\n",
    "       "
   ]
  },
  {
   "cell_type": "markdown",
   "id": "57498e92-25ac-4ece-9861-91ece23592be",
   "metadata": {},
   "source": [
    "# 3-6"
   ]
  },
  {
   "cell_type": "code",
   "execution_count": 17,
   "id": "5107c710-cd74-461e-a990-ce9560ad6d67",
   "metadata": {},
   "outputs": [
    {
     "name": "stdout",
     "output_type": "stream",
     "text": [
      "line 2 :                    GNU GENERAL PUBLIC LICENSE\n",
      "\n",
      "00-23:                     GNU\n",
      "line 52 :                    GNU GENERAL PUBLIC LICENSE\n",
      "\n",
      "00-23:                     GNU\n",
      "line 217 :    GNU General Public License for more details.\n",
      "\n",
      "00-07:     GNU\n"
     ]
    }
   ],
   "source": [
    "import re\n",
    "with open('GPL-1', 'r') as text :\n",
    "    a = text.readlines()\n",
    "    i = 1\n",
    "    for line in a:\n",
    "        for m in re.finditer(r\"^\\s*GNU\", line):\n",
    "            print(f\"line {i} :{line}\")\n",
    "            print('%02d-%02d: %s' % (m.start(), m.end(), m.group(0)))\n",
    "        i += 1"
   ]
  },
  {
   "cell_type": "code",
   "execution_count": 18,
   "id": "b9197e5a-7f6c-4c7b-9a3c-30fad3300e6c",
   "metadata": {},
   "outputs": [
    {
     "name": "stdout",
     "output_type": "stream",
     "text": [
      "line 82 :    third parties under the terms of this General Public License (except\n",
      "\n",
      "68-72: cept\n",
      "line 112 :    years, to give any third party free (except for a nominal charge\n",
      "\n",
      "43-47: cept\n",
      "line 125 :exception, it need not include source code for modules which are standard\n",
      "\n",
      "02-06: cept\n",
      "line 131 :Program except as expressly provided under this General Public License.\n",
      "\n",
      "10-14: cept\n",
      "line 140 :on the Program) you indicate your acceptance of this license to do so,\n",
      "\n",
      "36-40: cept\n",
      "line 166 :make exceptions for this.  Our decision will be guided by the two goals\n",
      "\n",
      "07-11: cept\n"
     ]
    }
   ],
   "source": [
    "with open('GPL-1', 'r') as text :\n",
    "    a = text.readlines()\n",
    "    i = 1\n",
    "    for line in a:\n",
    "        for m in re.finditer(r\"cept\", line):\n",
    "            print(f\"line {i} :{line}\")\n",
    "            print('%02d-%02d: %s' % (m.start(), m.end(), m.group(0)))\n",
    "        i += 1"
   ]
  },
  {
   "cell_type": "code",
   "execution_count": 19,
   "id": "46f4032b-0cc8-4d4c-a03f-c97046055558",
   "metadata": {},
   "outputs": [
    {
     "name": "stdout",
     "output_type": "stream",
     "text": [
      "line 5 : Copyright (C) 1989 Free Software Foundation, Inc.\n",
      "\n",
      "11-14: (C)\n",
      "line 38 :  We protect your rights with two steps: (1) copyright the software, and\n",
      "\n",
      "41-44: (1)\n",
      "line 39 :(2) offer you this license which gives you legal permission to copy,\n",
      "\n",
      "00-03: (2)\n",
      "line 207 :    Copyright (C) 19yy  <name of author>\n",
      "\n",
      "14-17: (C)\n",
      "line 211 :    the Free Software Foundation; either version 1, or (at your option)\n",
      "\n",
      "55-71: (at your option)\n",
      "line 229 :    Gnomovision version 69, Copyright (C) 19xx name of author\n",
      "\n",
      "38-41: (C)\n",
      "line 240 :You should also get your employer (if you work as a programmer) or your\n",
      "\n",
      "34-63: (if you work as a programmer)\n"
     ]
    }
   ],
   "source": [
    "with open('GPL-1', 'r') as text :\n",
    "    a = text.readlines()\n",
    "    i = 1\n",
    "    for line in a:\n",
    "        for m in re.finditer(r\"\\(([^)]+)\\)\", line):\n",
    "            print(f\"line {i} :{line}\")\n",
    "            print('%02d-%02d: %s' % (m.start(), m.end(), m.group(0)))\n",
    "        i += 1"
   ]
  },
  {
   "cell_type": "code",
   "execution_count": null,
   "id": "efdf2cd8-609f-405e-b877-753ea54f749f",
   "metadata": {},
   "outputs": [],
   "source": []
  }
 ],
 "metadata": {
  "kernelspec": {
   "display_name": "Python 3 (ipykernel)",
   "language": "python",
   "name": "python3"
  },
  "language_info": {
   "codemirror_mode": {
    "name": "ipython",
    "version": 3
   },
   "file_extension": ".py",
   "mimetype": "text/x-python",
   "name": "python",
   "nbconvert_exporter": "python",
   "pygments_lexer": "ipython3",
   "version": "3.10.0"
  }
 },
 "nbformat": 4,
 "nbformat_minor": 5
}
