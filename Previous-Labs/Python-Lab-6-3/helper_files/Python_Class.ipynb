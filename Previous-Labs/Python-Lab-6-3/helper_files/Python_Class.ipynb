{
  "nbformat": 4,
  "nbformat_minor": 0,
  "metadata": {
    "colab": {
      "name": "Python-Class.ipynb",
      "provenance": [],
      "collapsed_sections": []
    },
    "kernelspec": {
      "display_name": "Python 3",
      "name": "python3"
    },
    "language_info": {
      "name": "python"
    }
  },
  "cells": [
    {
      "cell_type": "markdown",
      "metadata": {
        "id": "8DXHN3kb1G_V"
      },
      "source": [
        "# **Python Tutorial**"
      ]
    },
    {
      "cell_type": "markdown",
      "metadata": {
        "id": "RIlHl0d-x0H2"
      },
      "source": [
        "*Type*"
      ]
    },
    {
      "cell_type": "code",
      "metadata": {
        "colab": {
          "base_uri": "https://localhost:8080/"
        },
        "id": "dL2Uzb70vJUU",
        "outputId": "00bd1e30-e5fd-4742-c0b7-96c01ff9c215"
      },
      "source": [
        "\n",
        "b = 3\n",
        "print(b)\n",
        "print(type(b))\n",
        "\n",
        "b = \"salam\"\n",
        "\n",
        "print(b)\n",
        "print(type(b))\n",
        "\n",
        "b = 3.2 \n",
        "print(b)\n",
        "print(type(b))\n",
        "print(int(3.2))\n",
        "\n",
        "\n",
        "b = str(65)\n",
        "print(type(b))\n",
        "print(1,\"hello\",3.2)\n",
        "\n",
        "#Comment\n",
        "a = -0x176\n",
        "b = 3 + 4j\n",
        "\n",
        "#Long Num eg\n",
        "\n",
        "print(b)\n",
        "print(type(b))\n",
        "print(a)\n",
        "print(type(a))\n",
        "\n",
        "   #-4    -3     -2     -1\n",
        "    #0     1      2      3\n",
        "a = [2,\"behrad\",3+4j,\"float\"]\n",
        "print(a[1]) #printing behrad\n",
        "print(a[1:3])\n",
        "print(a[2:])\n",
        "print(a[:2])\n",
        "print(a[-1])\n",
        "\n",
        "\n",
        "tple = ('behrad',123,3.4)\n",
        "print(tple[2])\n",
        "lst = ['behrad',123,3.4]\n",
        "#tple[2] = 100\n",
        "lst[2] = 100\n",
        "print(tple[2])\n",
        "print(lst[2])\n",
        "lst[2] = tple\n",
        "print(lst)\n",
        "lst1 = [0,1,\"Salam\",[53,245,135,35,[5,25,775,22]],(43,14)]\n",
        "print (lst1[3][4][2])\n",
        "d1 = {}\n",
        "d2 = {}\n",
        "d3 = {}\n",
        "d4 = {}\n",
        "\n",
        "d1 = d3 #city Tehran\n",
        "d1 = d4 #City Sari\n",
        "d['male'] = d1\n",
        "d['female'] = d2\n",
        "print(d['behrad']['ali'])\n",
        "\n",
        "chr(97)\n",
        "hex(64)\n",
        "oct(64)\n",
        "b = set()\n",
        "b = {10,12,11}\n",
        "b.add(4)\n",
        "c = [6,8,\"0\"]\n",
        "\n",
        "b.update(c)\n",
        "print(b)\n",
        "\n",
        "print(False,True)"
      ],
      "execution_count": null,
      "outputs": [
        {
          "output_type": "stream",
          "text": [
            "3\n",
            "<class 'int'>\n",
            "salam\n",
            "<class 'str'>\n",
            "3.2\n",
            "<class 'float'>\n",
            "3\n",
            "<class 'str'>\n",
            "1 hello 3.2\n",
            "(3+4j)\n",
            "<class 'complex'>\n",
            "-374\n",
            "<class 'int'>\n",
            "behrad\n",
            "['behrad', (3+4j)]\n",
            "[(3+4j), 'float']\n",
            "[2, 'behrad']\n",
            "float\n",
            "3.4\n",
            "3.4\n",
            "100\n",
            "['behrad', 123, ('behrad', 123, 3.4)]\n",
            "775\n",
            "norian\n",
            "{4, 6, 8, 10, 11, 12, '0'}\n",
            "False True\n"
          ],
          "name": "stdout"
        }
      ]
    },
    {
      "cell_type": "markdown",
      "metadata": {
        "id": "yYnLYnITx5F6"
      },
      "source": [
        "*Eq*"
      ]
    },
    {
      "cell_type": "code",
      "metadata": {
        "colab": {
          "base_uri": "https://localhost:8080/"
        },
        "id": "u8XNXbWmvNO7",
        "outputId": "3a413726-9194-40fa-f855-3cfd15f02284"
      },
      "source": [
        "\n",
        "a = 3 + (3*3**2)**2 / 4 \n",
        "\n",
        "print(\"hello \"*3 , end=\"\")\n",
        "print(\"Hello\" + \"World\")\n",
        "\n",
        "print(3==4)\n",
        "print(3!=4)\n",
        "print(3>=4)\n",
        "print(3<=4)\n",
        "print(3>4)\n",
        "print(3<4)\n",
        "\n",
        "#Check!\n",
        "print(0.3 == (0.2+0.1))\n",
        "\n",
        "a = 3\n",
        "a *=2\n",
        "print(a)\n",
        "\n",
        "a = 60 #00111100\n",
        "b = 13 #00001101\n",
        "print(a&b)\n",
        "print(a|b)\n",
        "print(a^b)\n",
        "print(~a)\n",
        "\n",
        "\n",
        "c = [6,8,\"0\"]\n",
        "print(7 in c)\n",
        "print(6 in c)\n",
        "print('behrad' not in c)\n"
      ],
      "execution_count": null,
      "outputs": [
        {
          "output_type": "stream",
          "text": [
            "hello hello hello HelloWorld\n",
            "False\n",
            "True\n",
            "False\n",
            "True\n",
            "False\n",
            "True\n",
            "False\n",
            "6\n",
            "12\n",
            "61\n",
            "49\n",
            "-61\n",
            "False\n",
            "True\n",
            "True\n"
          ],
          "name": "stdout"
        }
      ]
    },
    {
      "cell_type": "markdown",
      "metadata": {
        "id": "CvsQ5HaKEcFl"
      },
      "source": [
        "*If*"
      ]
    },
    {
      "cell_type": "code",
      "metadata": {
        "colab": {
          "base_uri": "https://localhost:8080/"
        },
        "id": "Q74hyqGsyW23",
        "outputId": "caace39b-be24-4b86-c23f-560dc5aca47f"
      },
      "source": [
        "a = 3\n",
        "if (a==3):\n",
        "  if((a%3)==0):\n",
        "    print(\"%a over 3 == 0\")\n",
        "  a=2\n",
        "  print(\"a eq 1\")\n",
        "elif (a==3):\n",
        "  print(\"a eq 3\")\n",
        "else: \n",
        "  print(\"a neq 1,3\")"
      ],
      "execution_count": null,
      "outputs": [
        {
          "output_type": "stream",
          "text": [
            "%a over 3 == 0\n",
            "a eq 1\n"
          ],
          "name": "stdout"
        }
      ]
    },
    {
      "cell_type": "markdown",
      "metadata": {
        "id": "a8MeTBriFbuF"
      },
      "source": [
        "*Input*"
      ]
    },
    {
      "cell_type": "code",
      "metadata": {
        "colab": {
          "base_uri": "https://localhost:8080/"
        },
        "id": "52yTWn8hCvSP",
        "outputId": "6c2cb2d5-8249-4bfd-b2e4-089a7784c441"
      },
      "source": [
        "a = int(input()) #a=5\n",
        "print(type(a))\n",
        "print(a==5)\n",
        "\n",
        "a = input() #a=5\n",
        "print(type(a))\n",
        "print(a==5)\n",
        "\n",
        "print(\"Hello\\nBehrad\")\n",
        "a = input(\"Input a:\\n\")\n",
        "print(a)\n",
        "\n",
        "\n",
        "a = input(\"Input a:\\t\")\n",
        "print(a)"
      ],
      "execution_count": null,
      "outputs": [
        {
          "output_type": "stream",
          "text": [
            "5\n",
            "<class 'int'>\n",
            "True\n",
            "5\n",
            "<class 'str'>\n",
            "False\n",
            "Hello\n",
            "Behrad\n",
            "Input a:\n",
            "7\n",
            "7\n",
            "Input a:\t2\n",
            "2\n"
          ],
          "name": "stdout"
        }
      ]
    },
    {
      "cell_type": "markdown",
      "metadata": {
        "id": "zokbv8ltekXl"
      },
      "source": [
        "*For & While*"
      ]
    },
    {
      "cell_type": "code",
      "metadata": {
        "id": "1Y3pzY7LEk3I"
      },
      "source": [
        "for i in range(0,14,3): #defStep= 1\n",
        "  print(i)\n",
        "  if (i>5):\n",
        "    break\n",
        "  print(\"Hello\")\n",
        "\n",
        "for i in range(0,14): \n",
        "  if (i>5):\n",
        "    continue\n",
        "  print(\"Hello\")"
      ],
      "execution_count": null,
      "outputs": []
    },
    {
      "cell_type": "code",
      "metadata": {
        "colab": {
          "base_uri": "https://localhost:8080/"
        },
        "id": "otZmkjpqGwGq",
        "outputId": "8db96cb0-6ec0-40a0-b454-5b801cbf6e21"
      },
      "source": [
        "a = 2\n",
        "while (a<15):\n",
        "  print(a)\n",
        "  a +=1\n",
        "  if (a>5):\n",
        "    break\n",
        "  print(\"Hello\")\n",
        "print(\"==========\")\n",
        "a = 2\n",
        "while (a<15):\n",
        "  print(a)\n",
        "  a +=1\n",
        "  if (a>5):\n",
        "    continue\n",
        "  print(\"Hello\")"
      ],
      "execution_count": null,
      "outputs": [
        {
          "output_type": "stream",
          "text": [
            "2\n",
            "Hello\n",
            "3\n",
            "Hello\n",
            "4\n",
            "Hello\n",
            "5\n",
            "==========\n",
            "2\n",
            "Hello\n",
            "3\n",
            "Hello\n",
            "4\n",
            "Hello\n",
            "5\n",
            "6\n",
            "7\n",
            "8\n",
            "9\n",
            "10\n",
            "11\n",
            "12\n",
            "13\n",
            "14\n"
          ],
          "name": "stdout"
        }
      ]
    },
    {
      "cell_type": "code",
      "metadata": {
        "colab": {
          "base_uri": "https://localhost:8080/"
        },
        "id": "B6HnYDE8H0bi",
        "outputId": "b5bae4b7-93eb-4fae-adfa-2053fd3a8a9c"
      },
      "source": [
        "import math\n",
        "#from Lib import SubLib\n",
        "#check cmp lib!\n",
        "print(abs(-3.4))\n",
        "print(math.ceil(3.6))    \n",
        "print(math.ceil(6.3))\n",
        "print(math.floor(4.3))\n",
        "print(math.log(4))\n",
        "print(math.log10(1000))"
      ],
      "execution_count": null,
      "outputs": [
        {
          "output_type": "stream",
          "text": [
            "3.4\n",
            "4\n",
            "7\n",
            "4\n",
            "1.3862943611198906\n",
            "3.0\n"
          ],
          "name": "stdout"
        }
      ]
    },
    {
      "cell_type": "markdown",
      "metadata": {
        "id": "aRtxIluiPrv3"
      },
      "source": [
        "*Time & Date*\n"
      ]
    },
    {
      "cell_type": "code",
      "metadata": {
        "colab": {
          "base_uri": "https://localhost:8080/"
        },
        "id": "pXIMt3VdPrZ_",
        "outputId": "12062ce7-5122-4136-cf9e-c20f2d6a2449"
      },
      "source": [
        "#1 january 1970 \n",
        "import time \n",
        "time = time.time()\n",
        "# Test!localtime = time.localtime(time.time())\n",
        "\n",
        "import calendar  \n",
        "cal = calendar.calendar(2021)\n",
        "a = calendar.isleap(2020)\n",
        "b = calendar.leapdays(1998,2008)\n",
        "c = calendar.weekday(2021,9,4)\n",
        "calendar.setfirstweekday(5)\n",
        "e = calendar.firstweekday()\n",
        "print(cal)\n",
        "print(a)\n",
        "print(b)\n",
        "print(c)\n",
        "print(e)\n",
        "\n",
        "\n"
      ],
      "execution_count": null,
      "outputs": [
        {
          "output_type": "stream",
          "name": "stdout",
          "text": [
            "                                  2021\n",
            "\n",
            "      January                   February                   March\n",
            "Sa Su Mo Tu We Th Fr      Sa Su Mo Tu We Th Fr      Sa Su Mo Tu We Th Fr\n",
            "                   1             1  2  3  4  5             1  2  3  4  5\n",
            " 2  3  4  5  6  7  8       6  7  8  9 10 11 12       6  7  8  9 10 11 12\n",
            " 9 10 11 12 13 14 15      13 14 15 16 17 18 19      13 14 15 16 17 18 19\n",
            "16 17 18 19 20 21 22      20 21 22 23 24 25 26      20 21 22 23 24 25 26\n",
            "23 24 25 26 27 28 29      27 28                     27 28 29 30 31\n",
            "30 31\n",
            "\n",
            "       April                      May                       June\n",
            "Sa Su Mo Tu We Th Fr      Sa Su Mo Tu We Th Fr      Sa Su Mo Tu We Th Fr\n",
            "                1  2       1  2  3  4  5  6  7                1  2  3  4\n",
            " 3  4  5  6  7  8  9       8  9 10 11 12 13 14       5  6  7  8  9 10 11\n",
            "10 11 12 13 14 15 16      15 16 17 18 19 20 21      12 13 14 15 16 17 18\n",
            "17 18 19 20 21 22 23      22 23 24 25 26 27 28      19 20 21 22 23 24 25\n",
            "24 25 26 27 28 29 30      29 30 31                  26 27 28 29 30\n",
            "\n",
            "        July                     August                  September\n",
            "Sa Su Mo Tu We Th Fr      Sa Su Mo Tu We Th Fr      Sa Su Mo Tu We Th Fr\n",
            "                1  2          1  2  3  4  5  6                   1  2  3\n",
            " 3  4  5  6  7  8  9       7  8  9 10 11 12 13       4  5  6  7  8  9 10\n",
            "10 11 12 13 14 15 16      14 15 16 17 18 19 20      11 12 13 14 15 16 17\n",
            "17 18 19 20 21 22 23      21 22 23 24 25 26 27      18 19 20 21 22 23 24\n",
            "24 25 26 27 28 29 30      28 29 30 31               25 26 27 28 29 30\n",
            "31\n",
            "\n",
            "      October                   November                  December\n",
            "Sa Su Mo Tu We Th Fr      Sa Su Mo Tu We Th Fr      Sa Su Mo Tu We Th Fr\n",
            "                   1             1  2  3  4  5                   1  2  3\n",
            " 2  3  4  5  6  7  8       6  7  8  9 10 11 12       4  5  6  7  8  9 10\n",
            " 9 10 11 12 13 14 15      13 14 15 16 17 18 19      11 12 13 14 15 16 17\n",
            "16 17 18 19 20 21 22      20 21 22 23 24 25 26      18 19 20 21 22 23 24\n",
            "23 24 25 26 27 28 29      27 28 29 30               25 26 27 28 29 30 31\n",
            "30 31\n",
            "\n",
            "True\n",
            "2\n",
            "5\n",
            "5\n"
          ]
        }
      ]
    },
    {
      "cell_type": "markdown",
      "metadata": {
        "id": "Kxhn6dxsVrNv"
      },
      "source": [
        "*Try Except*"
      ]
    },
    {
      "cell_type": "code",
      "metadata": {
        "id": "v1w9gb_eVyAP"
      },
      "source": [
        "l = [0,4,3]\n",
        "for i in range (0,5):\n",
        "  try:\n",
        "    print(l[i])\n",
        "  except Exception as ErrorTest:\n",
        "    print(ErrorTest)\n",
        "    print(l[i])\n",
        "print(\"Hi\")  "
      ],
      "execution_count": null,
      "outputs": []
    },
    {
      "cell_type": "markdown",
      "metadata": {
        "id": "3Bv_-4YvYOIT"
      },
      "source": [
        "*File*"
      ]
    },
    {
      "cell_type": "code",
      "metadata": {
        "id": "sqQUke_aYN02"
      },
      "source": [
        "\"\"\"\n",
        "Read Only ('r'): Open text file for reading. ...\n",
        "Read and Write ('r+'): Open the file for reading and writing. ...\n",
        "Write Only ('w'): Open the file for writing. ...\n",
        "Write and Read ('w+'): Open the file for reading and writing. ...\n",
        "Append Only ('a'): Open the file for writing.\n",
        "\"\"\"\n",
        "f = open(\"test.txt\", \"r\")\n",
        "f.read(3)\n",
        "print(f.readline())\n",
        "f.close()\n"
      ],
      "execution_count": null,
      "outputs": []
    },
    {
      "cell_type": "code",
      "metadata": {
        "id": "P6Pbget0bt2n"
      },
      "source": [
        "import pickle\n",
        "f = open(\"test.pck\", \"w\")\n",
        "pickle.dump(\"12.3\",f)\n",
        "f.close()     #Python 2 "
      ],
      "execution_count": null,
      "outputs": []
    },
    {
      "cell_type": "markdown",
      "metadata": {
        "id": "lbi9Wpa8Vkuo"
      },
      "source": [
        "*Func*"
      ]
    },
    {
      "cell_type": "code",
      "metadata": {
        "colab": {
          "base_uri": "https://localhost:8080/"
        },
        "id": "dByPaL6sTAxk",
        "outputId": "e87a8323-8f23-41f9-ad77-8be0a7372ca9"
      },
      "source": [
        "def GoodBoy(name, rate):\n",
        "  for i in range (0,rate):\n",
        "    print(\"Salam\" + name)\n",
        "GoodBoy(\"Test\",4)\n",
        "\n",
        "a = 4\n",
        "def GoodBoy(name, rate):\n",
        "  for i in range (0,rate):\n",
        "    print(\"Hi\")\n",
        "  rate +=1\n",
        "  print(rate)\n",
        "GoodBoy(\"Test\",a)\n",
        "\n",
        "def fibo(rate):\n",
        "  if (rate == 1):\n",
        "    return 1\n",
        "  if (rate == 2):\n",
        "    return 1\n",
        "  else:\n",
        "    return fibo(rate-1) + fibo(rate-2)\n",
        "print(fibo(6))\n",
        "\n",
        "#1 1 2 3 5 8"
      ],
      "execution_count": 1,
      "outputs": [
        {
          "output_type": "stream",
          "name": "stdout",
          "text": [
            "SalamTest\n",
            "SalamTest\n",
            "SalamTest\n",
            "SalamTest\n",
            "Hi\n",
            "Hi\n",
            "Hi\n",
            "Hi\n",
            "5\n",
            "8\n"
          ]
        }
      ]
    },
    {
      "cell_type": "markdown",
      "metadata": {
        "id": "KdV8yTfsBe5q"
      },
      "source": [
        "*Request*"
      ]
    },
    {
      "cell_type": "code",
      "metadata": {
        "id": "1ATZ1O5hd_QM"
      },
      "source": [
        "import requests\n",
        "import re\n",
        "dict ={\n",
        "    \"folad\" : \"46348559193224090\", \n",
        "    \"zoob\" : \"9211775239375291\"\n",
        "}\n",
        "\n",
        "url = \"http://www.tsetmc.com/tsev2/chart/data/IntraDayPrice.aspx?i=\" + dict[input()]\n",
        "req = requests.get(url)\n",
        "req = req.text.split(\";\")\n",
        "for item in req :\n",
        "    item = item.split(\",\")\n",
        "    print(\"Time:\", item[0],\" High:\", item[1], \" Low:\", item[2],\" Open:\", item[3], \" Close:\", item[4])"
      ],
      "execution_count": null,
      "outputs": []
    },
    {
      "cell_type": "code",
      "metadata": {
        "id": "RtzrJohNG5U0"
      },
      "source": [
        "import requests\n",
        "from persiantools.jdatetime import JalaliDate\n",
        "import datetime\n",
        "\n",
        "dict ={\n",
        "    \"folad\" : \"46348559193224090\", \n",
        "    \"zoob\" : \"9211775239375291\"\n",
        "}\n",
        "\n",
        "url = \"http://members.tsetmc.com/tsev2/data/InstTradeHistory.aspx?i=\" + dict[input()] + \"&Top=999999&A=0\" \n",
        "req = requests.get(url)\n",
        "req = req.text.split(\";\")\n",
        "for item in req:\n",
        "    item = item.split(\"@\")\n",
        "    if(item[0][:4] != \"2021\"):\n",
        "        break\n",
        "    #item[0] = str(JalaliDate.to_jalali(int(item[0][:4]),int(item[0][4:6]),int(item[0][5:])))  //TODO:Edit using Jalali lib\n",
        "    print(item)"
      ],
      "execution_count": null,
      "outputs": []
    }
  ]
}